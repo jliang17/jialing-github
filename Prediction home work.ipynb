{
    "cells": [
        {
            "cell_type": "markdown",
            "metadata": {},
            "source": " <a href=\"https://www.bigdatauniversity.com\"><img src = \"https://ibm.box.com/shared/static/ugcqz6ohbvff804xp84y4kqnvvk3bq1g.png\" width = 300, align = \"center\"></a>\n\n<h1 align=center><font size = 5>Data Analysis with Python</font></h1>"
        },
        {
            "cell_type": "markdown",
            "metadata": {},
            "source": "# House Sales in King County, USA"
        },
        {
            "cell_type": "markdown",
            "metadata": {},
            "source": "This dataset contains house sale prices for King County, which includes Seattle. It includes homes sold between May 2014 and May 2015."
        },
        {
            "cell_type": "markdown",
            "metadata": {},
            "source": "<b>id</b> : A notation for a house\n\n<b> date</b>: Date house was sold\n\n\n<b>price</b>: Price is prediction target\n\n\n<b>bedrooms</b>: Number of bedrooms\n\n\n<b>bathrooms</b>: Number of bathrooms\n\n<b>sqft_living</b>: Square footage of the home\n\n<b>sqft_lot</b>: Square footage of the lot\n\n\n<b>floors</b> :Total floors (levels) in house\n\n\n<b>waterfront</b> :House which has a view to a waterfront\n\n\n<b>view</b>: Has been viewed\n\n\n<b>condition</b> :How good the condition is overall\n\n<b>grade</b>: overall grade given to the housing unit, based on King County grading system\n\n\n<b>sqft_above</b> : Square footage of house apart from basement\n\n\n<b>sqft_basement</b>: Square footage of the basement\n\n<b>yr_built</b> : Built Year\n\n\n<b>yr_renovated</b> : Year when house was renovated\n\n<b>zipcode</b>: Zip code\n\n\n<b>lat</b>: Latitude coordinate\n\n<b>long</b>: Longitude coordinate\n\n<b>sqft_living15</b> : Living room area in 2015(implies-- some renovations) This might or might not have affected the lotsize area\n\n\n<b>sqft_lot15</b> : LotSize area in 2015(implies-- some renovations)"
        },
        {
            "cell_type": "markdown",
            "metadata": {},
            "source": "You will require the following libraries: "
        },
        {
            "cell_type": "code",
            "execution_count": 29,
            "metadata": {},
            "outputs": [],
            "source": "import pandas as pd\nimport matplotlib.pyplot as plt\nimport numpy as np\nimport seaborn as sns\nfrom sklearn.pipeline import Pipeline\nfrom sklearn.preprocessing import StandardScaler,PolynomialFeatures\nfrom sklearn.linear_model import LinearRegression\n%matplotlib inline"
        },
        {
            "cell_type": "markdown",
            "metadata": {},
            "source": "# Module 1: Importing Data Sets "
        },
        {
            "cell_type": "markdown",
            "metadata": {},
            "source": " Load the csv:  "
        },
        {
            "cell_type": "code",
            "execution_count": 30,
            "metadata": {
                "jupyter": {
                    "outputs_hidden": false
                }
            },
            "outputs": [],
            "source": "file_name='https://s3-api.us-geo.objectstorage.softlayer.net/cf-courses-data/CognitiveClass/DA0101EN/coursera/project/kc_house_data_NaN.csv'\ndf=pd.read_csv(file_name)"
        },
        {
            "cell_type": "markdown",
            "metadata": {},
            "source": "\nWe use the method <code>head</code> to display the first 5 columns of the dataframe."
        },
        {
            "cell_type": "code",
            "execution_count": 31,
            "metadata": {},
            "outputs": [
                {
                    "data": {
                        "text/html": "<div>\n<style scoped>\n    .dataframe tbody tr th:only-of-type {\n        vertical-align: middle;\n    }\n\n    .dataframe tbody tr th {\n        vertical-align: top;\n    }\n\n    .dataframe thead th {\n        text-align: right;\n    }\n</style>\n<table border=\"1\" class=\"dataframe\">\n  <thead>\n    <tr style=\"text-align: right;\">\n      <th></th>\n      <th>Unnamed: 0</th>\n      <th>id</th>\n      <th>date</th>\n      <th>price</th>\n      <th>bedrooms</th>\n      <th>bathrooms</th>\n      <th>sqft_living</th>\n      <th>sqft_lot</th>\n      <th>floors</th>\n      <th>waterfront</th>\n      <th>...</th>\n      <th>grade</th>\n      <th>sqft_above</th>\n      <th>sqft_basement</th>\n      <th>yr_built</th>\n      <th>yr_renovated</th>\n      <th>zipcode</th>\n      <th>lat</th>\n      <th>long</th>\n      <th>sqft_living15</th>\n      <th>sqft_lot15</th>\n    </tr>\n  </thead>\n  <tbody>\n    <tr>\n      <th>0</th>\n      <td>0</td>\n      <td>7129300520</td>\n      <td>20141013T000000</td>\n      <td>221900.0</td>\n      <td>3.0</td>\n      <td>1.00</td>\n      <td>1180</td>\n      <td>5650</td>\n      <td>1.0</td>\n      <td>0</td>\n      <td>...</td>\n      <td>7</td>\n      <td>1180</td>\n      <td>0</td>\n      <td>1955</td>\n      <td>0</td>\n      <td>98178</td>\n      <td>47.5112</td>\n      <td>-122.257</td>\n      <td>1340</td>\n      <td>5650</td>\n    </tr>\n    <tr>\n      <th>1</th>\n      <td>1</td>\n      <td>6414100192</td>\n      <td>20141209T000000</td>\n      <td>538000.0</td>\n      <td>3.0</td>\n      <td>2.25</td>\n      <td>2570</td>\n      <td>7242</td>\n      <td>2.0</td>\n      <td>0</td>\n      <td>...</td>\n      <td>7</td>\n      <td>2170</td>\n      <td>400</td>\n      <td>1951</td>\n      <td>1991</td>\n      <td>98125</td>\n      <td>47.7210</td>\n      <td>-122.319</td>\n      <td>1690</td>\n      <td>7639</td>\n    </tr>\n    <tr>\n      <th>2</th>\n      <td>2</td>\n      <td>5631500400</td>\n      <td>20150225T000000</td>\n      <td>180000.0</td>\n      <td>2.0</td>\n      <td>1.00</td>\n      <td>770</td>\n      <td>10000</td>\n      <td>1.0</td>\n      <td>0</td>\n      <td>...</td>\n      <td>6</td>\n      <td>770</td>\n      <td>0</td>\n      <td>1933</td>\n      <td>0</td>\n      <td>98028</td>\n      <td>47.7379</td>\n      <td>-122.233</td>\n      <td>2720</td>\n      <td>8062</td>\n    </tr>\n    <tr>\n      <th>3</th>\n      <td>3</td>\n      <td>2487200875</td>\n      <td>20141209T000000</td>\n      <td>604000.0</td>\n      <td>4.0</td>\n      <td>3.00</td>\n      <td>1960</td>\n      <td>5000</td>\n      <td>1.0</td>\n      <td>0</td>\n      <td>...</td>\n      <td>7</td>\n      <td>1050</td>\n      <td>910</td>\n      <td>1965</td>\n      <td>0</td>\n      <td>98136</td>\n      <td>47.5208</td>\n      <td>-122.393</td>\n      <td>1360</td>\n      <td>5000</td>\n    </tr>\n    <tr>\n      <th>4</th>\n      <td>4</td>\n      <td>1954400510</td>\n      <td>20150218T000000</td>\n      <td>510000.0</td>\n      <td>3.0</td>\n      <td>2.00</td>\n      <td>1680</td>\n      <td>8080</td>\n      <td>1.0</td>\n      <td>0</td>\n      <td>...</td>\n      <td>8</td>\n      <td>1680</td>\n      <td>0</td>\n      <td>1987</td>\n      <td>0</td>\n      <td>98074</td>\n      <td>47.6168</td>\n      <td>-122.045</td>\n      <td>1800</td>\n      <td>7503</td>\n    </tr>\n  </tbody>\n</table>\n<p>5 rows \u00d7 22 columns</p>\n</div>",
                        "text/plain": "   Unnamed: 0          id             date     price  bedrooms  bathrooms  \\\n0           0  7129300520  20141013T000000  221900.0       3.0       1.00   \n1           1  6414100192  20141209T000000  538000.0       3.0       2.25   \n2           2  5631500400  20150225T000000  180000.0       2.0       1.00   \n3           3  2487200875  20141209T000000  604000.0       4.0       3.00   \n4           4  1954400510  20150218T000000  510000.0       3.0       2.00   \n\n   sqft_living  sqft_lot  floors  waterfront  ...  grade  sqft_above  \\\n0         1180      5650     1.0           0  ...      7        1180   \n1         2570      7242     2.0           0  ...      7        2170   \n2          770     10000     1.0           0  ...      6         770   \n3         1960      5000     1.0           0  ...      7        1050   \n4         1680      8080     1.0           0  ...      8        1680   \n\n   sqft_basement  yr_built  yr_renovated  zipcode      lat     long  \\\n0              0      1955             0    98178  47.5112 -122.257   \n1            400      1951          1991    98125  47.7210 -122.319   \n2              0      1933             0    98028  47.7379 -122.233   \n3            910      1965             0    98136  47.5208 -122.393   \n4              0      1987             0    98074  47.6168 -122.045   \n\n   sqft_living15  sqft_lot15  \n0           1340        5650  \n1           1690        7639  \n2           2720        8062  \n3           1360        5000  \n4           1800        7503  \n\n[5 rows x 22 columns]"
                    },
                    "execution_count": 31,
                    "metadata": {},
                    "output_type": "execute_result"
                }
            ],
            "source": "df.head()"
        },
        {
            "cell_type": "markdown",
            "metadata": {},
            "source": "### Question 1 \nDisplay the data types of each column using the attribute dtype, then take a screenshot and submit it, include your code in the image. "
        },
        {
            "cell_type": "code",
            "execution_count": 32,
            "metadata": {
                "jupyter": {
                    "outputs_hidden": false
                }
            },
            "outputs": [
                {
                    "name": "stdout",
                    "output_type": "stream",
                    "text": "Unnamed: 0         int64\nid                 int64\ndate              object\nprice            float64\nbedrooms         float64\nbathrooms        float64\nsqft_living        int64\nsqft_lot           int64\nfloors           float64\nwaterfront         int64\nview               int64\ncondition          int64\ngrade              int64\nsqft_above         int64\nsqft_basement      int64\nyr_built           int64\nyr_renovated       int64\nzipcode            int64\nlat              float64\nlong             float64\nsqft_living15      int64\nsqft_lot15         int64\ndtype: object\n"
                }
            ],
            "source": "print(df.dtypes)"
        },
        {
            "cell_type": "markdown",
            "metadata": {},
            "source": "We use the method describe to obtain a statistical summary of the dataframe."
        },
        {
            "cell_type": "code",
            "execution_count": 33,
            "metadata": {
                "jupyter": {
                    "outputs_hidden": false
                }
            },
            "outputs": [
                {
                    "data": {
                        "text/html": "<div>\n<style scoped>\n    .dataframe tbody tr th:only-of-type {\n        vertical-align: middle;\n    }\n\n    .dataframe tbody tr th {\n        vertical-align: top;\n    }\n\n    .dataframe thead th {\n        text-align: right;\n    }\n</style>\n<table border=\"1\" class=\"dataframe\">\n  <thead>\n    <tr style=\"text-align: right;\">\n      <th></th>\n      <th>Unnamed: 0</th>\n      <th>id</th>\n      <th>price</th>\n      <th>bedrooms</th>\n      <th>bathrooms</th>\n      <th>sqft_living</th>\n      <th>sqft_lot</th>\n      <th>floors</th>\n      <th>waterfront</th>\n      <th>view</th>\n      <th>...</th>\n      <th>grade</th>\n      <th>sqft_above</th>\n      <th>sqft_basement</th>\n      <th>yr_built</th>\n      <th>yr_renovated</th>\n      <th>zipcode</th>\n      <th>lat</th>\n      <th>long</th>\n      <th>sqft_living15</th>\n      <th>sqft_lot15</th>\n    </tr>\n  </thead>\n  <tbody>\n    <tr>\n      <th>count</th>\n      <td>21613.00000</td>\n      <td>2.161300e+04</td>\n      <td>2.161300e+04</td>\n      <td>21600.000000</td>\n      <td>21603.000000</td>\n      <td>21613.000000</td>\n      <td>2.161300e+04</td>\n      <td>21613.000000</td>\n      <td>21613.000000</td>\n      <td>21613.000000</td>\n      <td>...</td>\n      <td>21613.000000</td>\n      <td>21613.000000</td>\n      <td>21613.000000</td>\n      <td>21613.000000</td>\n      <td>21613.000000</td>\n      <td>21613.000000</td>\n      <td>21613.000000</td>\n      <td>21613.000000</td>\n      <td>21613.000000</td>\n      <td>21613.000000</td>\n    </tr>\n    <tr>\n      <th>mean</th>\n      <td>10806.00000</td>\n      <td>4.580302e+09</td>\n      <td>5.400881e+05</td>\n      <td>3.372870</td>\n      <td>2.115736</td>\n      <td>2079.899736</td>\n      <td>1.510697e+04</td>\n      <td>1.494309</td>\n      <td>0.007542</td>\n      <td>0.234303</td>\n      <td>...</td>\n      <td>7.656873</td>\n      <td>1788.390691</td>\n      <td>291.509045</td>\n      <td>1971.005136</td>\n      <td>84.402258</td>\n      <td>98077.939805</td>\n      <td>47.560053</td>\n      <td>-122.213896</td>\n      <td>1986.552492</td>\n      <td>12768.455652</td>\n    </tr>\n    <tr>\n      <th>std</th>\n      <td>6239.28002</td>\n      <td>2.876566e+09</td>\n      <td>3.671272e+05</td>\n      <td>0.926657</td>\n      <td>0.768996</td>\n      <td>918.440897</td>\n      <td>4.142051e+04</td>\n      <td>0.539989</td>\n      <td>0.086517</td>\n      <td>0.766318</td>\n      <td>...</td>\n      <td>1.175459</td>\n      <td>828.090978</td>\n      <td>442.575043</td>\n      <td>29.373411</td>\n      <td>401.679240</td>\n      <td>53.505026</td>\n      <td>0.138564</td>\n      <td>0.140828</td>\n      <td>685.391304</td>\n      <td>27304.179631</td>\n    </tr>\n    <tr>\n      <th>min</th>\n      <td>0.00000</td>\n      <td>1.000102e+06</td>\n      <td>7.500000e+04</td>\n      <td>1.000000</td>\n      <td>0.500000</td>\n      <td>290.000000</td>\n      <td>5.200000e+02</td>\n      <td>1.000000</td>\n      <td>0.000000</td>\n      <td>0.000000</td>\n      <td>...</td>\n      <td>1.000000</td>\n      <td>290.000000</td>\n      <td>0.000000</td>\n      <td>1900.000000</td>\n      <td>0.000000</td>\n      <td>98001.000000</td>\n      <td>47.155900</td>\n      <td>-122.519000</td>\n      <td>399.000000</td>\n      <td>651.000000</td>\n    </tr>\n    <tr>\n      <th>25%</th>\n      <td>5403.00000</td>\n      <td>2.123049e+09</td>\n      <td>3.219500e+05</td>\n      <td>3.000000</td>\n      <td>1.750000</td>\n      <td>1427.000000</td>\n      <td>5.040000e+03</td>\n      <td>1.000000</td>\n      <td>0.000000</td>\n      <td>0.000000</td>\n      <td>...</td>\n      <td>7.000000</td>\n      <td>1190.000000</td>\n      <td>0.000000</td>\n      <td>1951.000000</td>\n      <td>0.000000</td>\n      <td>98033.000000</td>\n      <td>47.471000</td>\n      <td>-122.328000</td>\n      <td>1490.000000</td>\n      <td>5100.000000</td>\n    </tr>\n    <tr>\n      <th>50%</th>\n      <td>10806.00000</td>\n      <td>3.904930e+09</td>\n      <td>4.500000e+05</td>\n      <td>3.000000</td>\n      <td>2.250000</td>\n      <td>1910.000000</td>\n      <td>7.618000e+03</td>\n      <td>1.500000</td>\n      <td>0.000000</td>\n      <td>0.000000</td>\n      <td>...</td>\n      <td>7.000000</td>\n      <td>1560.000000</td>\n      <td>0.000000</td>\n      <td>1975.000000</td>\n      <td>0.000000</td>\n      <td>98065.000000</td>\n      <td>47.571800</td>\n      <td>-122.230000</td>\n      <td>1840.000000</td>\n      <td>7620.000000</td>\n    </tr>\n    <tr>\n      <th>75%</th>\n      <td>16209.00000</td>\n      <td>7.308900e+09</td>\n      <td>6.450000e+05</td>\n      <td>4.000000</td>\n      <td>2.500000</td>\n      <td>2550.000000</td>\n      <td>1.068800e+04</td>\n      <td>2.000000</td>\n      <td>0.000000</td>\n      <td>0.000000</td>\n      <td>...</td>\n      <td>8.000000</td>\n      <td>2210.000000</td>\n      <td>560.000000</td>\n      <td>1997.000000</td>\n      <td>0.000000</td>\n      <td>98118.000000</td>\n      <td>47.678000</td>\n      <td>-122.125000</td>\n      <td>2360.000000</td>\n      <td>10083.000000</td>\n    </tr>\n    <tr>\n      <th>max</th>\n      <td>21612.00000</td>\n      <td>9.900000e+09</td>\n      <td>7.700000e+06</td>\n      <td>33.000000</td>\n      <td>8.000000</td>\n      <td>13540.000000</td>\n      <td>1.651359e+06</td>\n      <td>3.500000</td>\n      <td>1.000000</td>\n      <td>4.000000</td>\n      <td>...</td>\n      <td>13.000000</td>\n      <td>9410.000000</td>\n      <td>4820.000000</td>\n      <td>2015.000000</td>\n      <td>2015.000000</td>\n      <td>98199.000000</td>\n      <td>47.777600</td>\n      <td>-121.315000</td>\n      <td>6210.000000</td>\n      <td>871200.000000</td>\n    </tr>\n  </tbody>\n</table>\n<p>8 rows \u00d7 21 columns</p>\n</div>",
                        "text/plain": "        Unnamed: 0            id         price      bedrooms     bathrooms  \\\ncount  21613.00000  2.161300e+04  2.161300e+04  21600.000000  21603.000000   \nmean   10806.00000  4.580302e+09  5.400881e+05      3.372870      2.115736   \nstd     6239.28002  2.876566e+09  3.671272e+05      0.926657      0.768996   \nmin        0.00000  1.000102e+06  7.500000e+04      1.000000      0.500000   \n25%     5403.00000  2.123049e+09  3.219500e+05      3.000000      1.750000   \n50%    10806.00000  3.904930e+09  4.500000e+05      3.000000      2.250000   \n75%    16209.00000  7.308900e+09  6.450000e+05      4.000000      2.500000   \nmax    21612.00000  9.900000e+09  7.700000e+06     33.000000      8.000000   \n\n        sqft_living      sqft_lot        floors    waterfront          view  \\\ncount  21613.000000  2.161300e+04  21613.000000  21613.000000  21613.000000   \nmean    2079.899736  1.510697e+04      1.494309      0.007542      0.234303   \nstd      918.440897  4.142051e+04      0.539989      0.086517      0.766318   \nmin      290.000000  5.200000e+02      1.000000      0.000000      0.000000   \n25%     1427.000000  5.040000e+03      1.000000      0.000000      0.000000   \n50%     1910.000000  7.618000e+03      1.500000      0.000000      0.000000   \n75%     2550.000000  1.068800e+04      2.000000      0.000000      0.000000   \nmax    13540.000000  1.651359e+06      3.500000      1.000000      4.000000   \n\n       ...         grade    sqft_above  sqft_basement      yr_built  \\\ncount  ...  21613.000000  21613.000000   21613.000000  21613.000000   \nmean   ...      7.656873   1788.390691     291.509045   1971.005136   \nstd    ...      1.175459    828.090978     442.575043     29.373411   \nmin    ...      1.000000    290.000000       0.000000   1900.000000   \n25%    ...      7.000000   1190.000000       0.000000   1951.000000   \n50%    ...      7.000000   1560.000000       0.000000   1975.000000   \n75%    ...      8.000000   2210.000000     560.000000   1997.000000   \nmax    ...     13.000000   9410.000000    4820.000000   2015.000000   \n\n       yr_renovated       zipcode           lat          long  sqft_living15  \\\ncount  21613.000000  21613.000000  21613.000000  21613.000000   21613.000000   \nmean      84.402258  98077.939805     47.560053   -122.213896    1986.552492   \nstd      401.679240     53.505026      0.138564      0.140828     685.391304   \nmin        0.000000  98001.000000     47.155900   -122.519000     399.000000   \n25%        0.000000  98033.000000     47.471000   -122.328000    1490.000000   \n50%        0.000000  98065.000000     47.571800   -122.230000    1840.000000   \n75%        0.000000  98118.000000     47.678000   -122.125000    2360.000000   \nmax     2015.000000  98199.000000     47.777600   -121.315000    6210.000000   \n\n          sqft_lot15  \ncount   21613.000000  \nmean    12768.455652  \nstd     27304.179631  \nmin       651.000000  \n25%      5100.000000  \n50%      7620.000000  \n75%     10083.000000  \nmax    871200.000000  \n\n[8 rows x 21 columns]"
                    },
                    "execution_count": 33,
                    "metadata": {},
                    "output_type": "execute_result"
                }
            ],
            "source": "df.describe()"
        },
        {
            "cell_type": "markdown",
            "metadata": {},
            "source": "# Module 2: Data Wrangling"
        },
        {
            "cell_type": "markdown",
            "metadata": {},
            "source": "### Question 2 \nDrop the columns <code>\"id\"</code>  and <code>\"Unnamed: 0\"</code> from axis 1 using the method <code>drop()</code>, then use the method <code>describe()</code> to obtain a statistical summary of the data. Take a screenshot and submit it, make sure the <code>inplace</code> parameter is set to <code>True</code>"
        },
        {
            "cell_type": "code",
            "execution_count": 34,
            "metadata": {
                "jupyter": {
                    "outputs_hidden": false
                }
            },
            "outputs": [
                {
                    "data": {
                        "text/html": "<div>\n<style scoped>\n    .dataframe tbody tr th:only-of-type {\n        vertical-align: middle;\n    }\n\n    .dataframe tbody tr th {\n        vertical-align: top;\n    }\n\n    .dataframe thead th {\n        text-align: right;\n    }\n</style>\n<table border=\"1\" class=\"dataframe\">\n  <thead>\n    <tr style=\"text-align: right;\">\n      <th></th>\n      <th>price</th>\n      <th>bedrooms</th>\n      <th>bathrooms</th>\n      <th>sqft_living</th>\n      <th>sqft_lot</th>\n      <th>floors</th>\n      <th>waterfront</th>\n      <th>view</th>\n      <th>condition</th>\n      <th>grade</th>\n      <th>sqft_above</th>\n      <th>sqft_basement</th>\n      <th>yr_built</th>\n      <th>yr_renovated</th>\n      <th>zipcode</th>\n      <th>lat</th>\n      <th>long</th>\n      <th>sqft_living15</th>\n      <th>sqft_lot15</th>\n    </tr>\n  </thead>\n  <tbody>\n    <tr>\n      <th>count</th>\n      <td>2.161300e+04</td>\n      <td>21600.000000</td>\n      <td>21603.000000</td>\n      <td>21613.000000</td>\n      <td>2.161300e+04</td>\n      <td>21613.000000</td>\n      <td>21613.000000</td>\n      <td>21613.000000</td>\n      <td>21613.000000</td>\n      <td>21613.000000</td>\n      <td>21613.000000</td>\n      <td>21613.000000</td>\n      <td>21613.000000</td>\n      <td>21613.000000</td>\n      <td>21613.000000</td>\n      <td>21613.000000</td>\n      <td>21613.000000</td>\n      <td>21613.000000</td>\n      <td>21613.000000</td>\n    </tr>\n    <tr>\n      <th>mean</th>\n      <td>5.400881e+05</td>\n      <td>3.372870</td>\n      <td>2.115736</td>\n      <td>2079.899736</td>\n      <td>1.510697e+04</td>\n      <td>1.494309</td>\n      <td>0.007542</td>\n      <td>0.234303</td>\n      <td>3.409430</td>\n      <td>7.656873</td>\n      <td>1788.390691</td>\n      <td>291.509045</td>\n      <td>1971.005136</td>\n      <td>84.402258</td>\n      <td>98077.939805</td>\n      <td>47.560053</td>\n      <td>-122.213896</td>\n      <td>1986.552492</td>\n      <td>12768.455652</td>\n    </tr>\n    <tr>\n      <th>std</th>\n      <td>3.671272e+05</td>\n      <td>0.926657</td>\n      <td>0.768996</td>\n      <td>918.440897</td>\n      <td>4.142051e+04</td>\n      <td>0.539989</td>\n      <td>0.086517</td>\n      <td>0.766318</td>\n      <td>0.650743</td>\n      <td>1.175459</td>\n      <td>828.090978</td>\n      <td>442.575043</td>\n      <td>29.373411</td>\n      <td>401.679240</td>\n      <td>53.505026</td>\n      <td>0.138564</td>\n      <td>0.140828</td>\n      <td>685.391304</td>\n      <td>27304.179631</td>\n    </tr>\n    <tr>\n      <th>min</th>\n      <td>7.500000e+04</td>\n      <td>1.000000</td>\n      <td>0.500000</td>\n      <td>290.000000</td>\n      <td>5.200000e+02</td>\n      <td>1.000000</td>\n      <td>0.000000</td>\n      <td>0.000000</td>\n      <td>1.000000</td>\n      <td>1.000000</td>\n      <td>290.000000</td>\n      <td>0.000000</td>\n      <td>1900.000000</td>\n      <td>0.000000</td>\n      <td>98001.000000</td>\n      <td>47.155900</td>\n      <td>-122.519000</td>\n      <td>399.000000</td>\n      <td>651.000000</td>\n    </tr>\n    <tr>\n      <th>25%</th>\n      <td>3.219500e+05</td>\n      <td>3.000000</td>\n      <td>1.750000</td>\n      <td>1427.000000</td>\n      <td>5.040000e+03</td>\n      <td>1.000000</td>\n      <td>0.000000</td>\n      <td>0.000000</td>\n      <td>3.000000</td>\n      <td>7.000000</td>\n      <td>1190.000000</td>\n      <td>0.000000</td>\n      <td>1951.000000</td>\n      <td>0.000000</td>\n      <td>98033.000000</td>\n      <td>47.471000</td>\n      <td>-122.328000</td>\n      <td>1490.000000</td>\n      <td>5100.000000</td>\n    </tr>\n    <tr>\n      <th>50%</th>\n      <td>4.500000e+05</td>\n      <td>3.000000</td>\n      <td>2.250000</td>\n      <td>1910.000000</td>\n      <td>7.618000e+03</td>\n      <td>1.500000</td>\n      <td>0.000000</td>\n      <td>0.000000</td>\n      <td>3.000000</td>\n      <td>7.000000</td>\n      <td>1560.000000</td>\n      <td>0.000000</td>\n      <td>1975.000000</td>\n      <td>0.000000</td>\n      <td>98065.000000</td>\n      <td>47.571800</td>\n      <td>-122.230000</td>\n      <td>1840.000000</td>\n      <td>7620.000000</td>\n    </tr>\n    <tr>\n      <th>75%</th>\n      <td>6.450000e+05</td>\n      <td>4.000000</td>\n      <td>2.500000</td>\n      <td>2550.000000</td>\n      <td>1.068800e+04</td>\n      <td>2.000000</td>\n      <td>0.000000</td>\n      <td>0.000000</td>\n      <td>4.000000</td>\n      <td>8.000000</td>\n      <td>2210.000000</td>\n      <td>560.000000</td>\n      <td>1997.000000</td>\n      <td>0.000000</td>\n      <td>98118.000000</td>\n      <td>47.678000</td>\n      <td>-122.125000</td>\n      <td>2360.000000</td>\n      <td>10083.000000</td>\n    </tr>\n    <tr>\n      <th>max</th>\n      <td>7.700000e+06</td>\n      <td>33.000000</td>\n      <td>8.000000</td>\n      <td>13540.000000</td>\n      <td>1.651359e+06</td>\n      <td>3.500000</td>\n      <td>1.000000</td>\n      <td>4.000000</td>\n      <td>5.000000</td>\n      <td>13.000000</td>\n      <td>9410.000000</td>\n      <td>4820.000000</td>\n      <td>2015.000000</td>\n      <td>2015.000000</td>\n      <td>98199.000000</td>\n      <td>47.777600</td>\n      <td>-121.315000</td>\n      <td>6210.000000</td>\n      <td>871200.000000</td>\n    </tr>\n  </tbody>\n</table>\n</div>",
                        "text/plain": "              price      bedrooms     bathrooms   sqft_living      sqft_lot  \\\ncount  2.161300e+04  21600.000000  21603.000000  21613.000000  2.161300e+04   \nmean   5.400881e+05      3.372870      2.115736   2079.899736  1.510697e+04   \nstd    3.671272e+05      0.926657      0.768996    918.440897  4.142051e+04   \nmin    7.500000e+04      1.000000      0.500000    290.000000  5.200000e+02   \n25%    3.219500e+05      3.000000      1.750000   1427.000000  5.040000e+03   \n50%    4.500000e+05      3.000000      2.250000   1910.000000  7.618000e+03   \n75%    6.450000e+05      4.000000      2.500000   2550.000000  1.068800e+04   \nmax    7.700000e+06     33.000000      8.000000  13540.000000  1.651359e+06   \n\n             floors    waterfront          view     condition         grade  \\\ncount  21613.000000  21613.000000  21613.000000  21613.000000  21613.000000   \nmean       1.494309      0.007542      0.234303      3.409430      7.656873   \nstd        0.539989      0.086517      0.766318      0.650743      1.175459   \nmin        1.000000      0.000000      0.000000      1.000000      1.000000   \n25%        1.000000      0.000000      0.000000      3.000000      7.000000   \n50%        1.500000      0.000000      0.000000      3.000000      7.000000   \n75%        2.000000      0.000000      0.000000      4.000000      8.000000   \nmax        3.500000      1.000000      4.000000      5.000000     13.000000   \n\n         sqft_above  sqft_basement      yr_built  yr_renovated       zipcode  \\\ncount  21613.000000   21613.000000  21613.000000  21613.000000  21613.000000   \nmean    1788.390691     291.509045   1971.005136     84.402258  98077.939805   \nstd      828.090978     442.575043     29.373411    401.679240     53.505026   \nmin      290.000000       0.000000   1900.000000      0.000000  98001.000000   \n25%     1190.000000       0.000000   1951.000000      0.000000  98033.000000   \n50%     1560.000000       0.000000   1975.000000      0.000000  98065.000000   \n75%     2210.000000     560.000000   1997.000000      0.000000  98118.000000   \nmax     9410.000000    4820.000000   2015.000000   2015.000000  98199.000000   \n\n                lat          long  sqft_living15     sqft_lot15  \ncount  21613.000000  21613.000000   21613.000000   21613.000000  \nmean      47.560053   -122.213896    1986.552492   12768.455652  \nstd        0.138564      0.140828     685.391304   27304.179631  \nmin       47.155900   -122.519000     399.000000     651.000000  \n25%       47.471000   -122.328000    1490.000000    5100.000000  \n50%       47.571800   -122.230000    1840.000000    7620.000000  \n75%       47.678000   -122.125000    2360.000000   10083.000000  \nmax       47.777600   -121.315000    6210.000000  871200.000000  "
                    },
                    "execution_count": 34,
                    "metadata": {},
                    "output_type": "execute_result"
                }
            ],
            "source": "df.drop([\"id\",\"Unnamed: 0\"],axis=1,inplace=True)\ndf.describe()"
        },
        {
            "cell_type": "markdown",
            "metadata": {},
            "source": "We can see we have missing values for the columns <code> bedrooms</code>  and <code> bathrooms </code>"
        },
        {
            "cell_type": "code",
            "execution_count": 35,
            "metadata": {
                "jupyter": {
                    "outputs_hidden": false
                }
            },
            "outputs": [
                {
                    "name": "stdout",
                    "output_type": "stream",
                    "text": "number of NaN values for the column bedrooms : 13\nnumber of NaN values for the column bathrooms : 10\n"
                }
            ],
            "source": "print(\"number of NaN values for the column bedrooms :\", df['bedrooms'].isnull().sum())\nprint(\"number of NaN values for the column bathrooms :\", df['bathrooms'].isnull().sum())\n"
        },
        {
            "cell_type": "markdown",
            "metadata": {},
            "source": "\nWe can replace the missing values of the column <code>'bedrooms'</code> with the mean of the column  <code>'bedrooms' </code> using the method <code>replace()</code>. Don't forget to set the <code>inplace</code> parameter to <code>True</code>"
        },
        {
            "cell_type": "code",
            "execution_count": 36,
            "metadata": {},
            "outputs": [],
            "source": "mean=df['bedrooms'].mean()\ndf['bedrooms'].replace(np.nan,mean, inplace=True)"
        },
        {
            "cell_type": "markdown",
            "metadata": {},
            "source": "\nWe also replace the missing values of the column <code>'bathrooms'</code> with the mean of the column  <code>'bathrooms' </code> using the method <code>replace()</code>. Don't forget to set the <code> inplace </code>  parameter top <code> True </code>"
        },
        {
            "cell_type": "code",
            "execution_count": 37,
            "metadata": {},
            "outputs": [],
            "source": "mean=df['bathrooms'].mean()\ndf['bathrooms'].replace(np.nan,mean, inplace=True)"
        },
        {
            "cell_type": "code",
            "execution_count": 38,
            "metadata": {
                "jupyter": {
                    "outputs_hidden": false
                }
            },
            "outputs": [
                {
                    "name": "stdout",
                    "output_type": "stream",
                    "text": "number of NaN values for the column bedrooms : 0\nnumber of NaN values for the column bathrooms : 0\n"
                }
            ],
            "source": "print(\"number of NaN values for the column bedrooms :\", df['bedrooms'].isnull().sum())\nprint(\"number of NaN values for the column bathrooms :\", df['bathrooms'].isnull().sum())"
        },
        {
            "cell_type": "markdown",
            "metadata": {},
            "source": "# Module 3: Exploratory Data Analysis"
        },
        {
            "cell_type": "markdown",
            "metadata": {},
            "source": "### Question 3\nUse the method <code>value_counts</code> to count the number of houses with unique floor values, use the method <code>.to_frame()</code> to convert it to a dataframe.\n"
        },
        {
            "cell_type": "code",
            "execution_count": 40,
            "metadata": {
                "jupyter": {
                    "outputs_hidden": false
                }
            },
            "outputs": [
                {
                    "data": {
                        "text/html": "<div>\n<style scoped>\n    .dataframe tbody tr th:only-of-type {\n        vertical-align: middle;\n    }\n\n    .dataframe tbody tr th {\n        vertical-align: top;\n    }\n\n    .dataframe thead th {\n        text-align: right;\n    }\n</style>\n<table border=\"1\" class=\"dataframe\">\n  <thead>\n    <tr style=\"text-align: right;\">\n      <th></th>\n      <th>floors</th>\n    </tr>\n  </thead>\n  <tbody>\n    <tr>\n      <th>1.0</th>\n      <td>10680</td>\n    </tr>\n    <tr>\n      <th>2.0</th>\n      <td>8241</td>\n    </tr>\n    <tr>\n      <th>1.5</th>\n      <td>1910</td>\n    </tr>\n    <tr>\n      <th>3.0</th>\n      <td>613</td>\n    </tr>\n    <tr>\n      <th>2.5</th>\n      <td>161</td>\n    </tr>\n    <tr>\n      <th>3.5</th>\n      <td>8</td>\n    </tr>\n  </tbody>\n</table>\n</div>",
                        "text/plain": "     floors\n1.0   10680\n2.0    8241\n1.5    1910\n3.0     613\n2.5     161\n3.5       8"
                    },
                    "execution_count": 40,
                    "metadata": {},
                    "output_type": "execute_result"
                }
            ],
            "source": "df['floors'].value_counts().to_frame()"
        },
        {
            "cell_type": "markdown",
            "metadata": {},
            "source": "### Question 4\nUse the function <code>boxplot</code> in the seaborn library  to  determine whether houses with a waterfront view or without a waterfront view have more price outliers."
        },
        {
            "cell_type": "code",
            "execution_count": 42,
            "metadata": {
                "jupyter": {
                    "outputs_hidden": false
                }
            },
            "outputs": [
                {
                    "data": {
                        "text/plain": "<matplotlib.axes._subplots.AxesSubplot at 0x7f8c35f86f98>"
                    },
                    "execution_count": 42,
                    "metadata": {},
                    "output_type": "execute_result"
                },
                {
                    "data": {
                        "image/png": "[encoded data removed]",
                        "text/plain": "<Figure size 432x288 with 1 Axes>"
                    },
                    "metadata": {
                        "needs_background": "light"
                    },
                    "output_type": "display_data"
                }
            ],
            "source": "sns.boxplot(x=df['waterfront'],y=df['price'])"
        },
        {
            "cell_type": "markdown",
            "metadata": {},
            "source": "### Question 5\nUse the function <code>regplot</code>  in the seaborn library  to  determine if the feature <code>sqft_above</code> is negatively or positively correlated with price."
        },
        {
            "cell_type": "code",
            "execution_count": 44,
            "metadata": {
                "jupyter": {
                    "outputs_hidden": false
                }
            },
            "outputs": [
                {
                    "data": {
                        "text/plain": "<matplotlib.axes._subplots.AxesSubplot at 0x7f8c35c3c518>"
                    },
                    "execution_count": 44,
                    "metadata": {},
                    "output_type": "execute_result"
                },
                {
                    "data": {
                        "image/png": "[encoded data removed]",
                        "text/plain": "<Figure size 432x288 with 1 Axes>"
                    },
                    "metadata": {
                        "needs_background": "light"
                    },
                    "output_type": "display_data"
                }
            ],
            "source": "sns.regplot(x=df['sqft_above'],y=df['price'])"
        },
        {
            "cell_type": "markdown",
            "metadata": {},
            "source": "\nWe can use the Pandas method <code>corr()</code>  to find the feature other than price that is most correlated with price."
        },
        {
            "cell_type": "code",
            "execution_count": 45,
            "metadata": {
                "jupyter": {
                    "outputs_hidden": false
                }
            },
            "outputs": [
                {
                    "data": {
                        "text/plain": "zipcode         -0.053203\nlong             0.021626\ncondition        0.036362\nyr_built         0.054012\nsqft_lot15       0.082447\nsqft_lot         0.089661\nyr_renovated     0.126434\nfloors           0.256794\nwaterfront       0.266369\nlat              0.307003\nbedrooms         0.308797\nsqft_basement    0.323816\nview             0.397293\nbathrooms        0.525738\nsqft_living15    0.585379\nsqft_above       0.605567\ngrade            0.667434\nsqft_living      0.702035\nprice            1.000000\nName: price, dtype: float64"
                    },
                    "execution_count": 45,
                    "metadata": {},
                    "output_type": "execute_result"
                }
            ],
            "source": "df.corr()['price'].sort_values()"
        },
        {
            "cell_type": "markdown",
            "metadata": {},
            "source": "# Module 4: Model Development"
        },
        {
            "cell_type": "markdown",
            "metadata": {},
            "source": "\nWe can Fit a linear regression model using the  longitude feature <code>'long'</code> and  caculate the R^2."
        },
        {
            "cell_type": "code",
            "execution_count": 46,
            "metadata": {
                "jupyter": {
                    "outputs_hidden": false
                }
            },
            "outputs": [
                {
                    "data": {
                        "text/plain": "0.00046769430149007363"
                    },
                    "execution_count": 46,
                    "metadata": {},
                    "output_type": "execute_result"
                }
            ],
            "source": "X = df[['long']]\nY = df['price']\nlm = LinearRegression()\nlm.fit(X,Y)\nlm.score(X, Y)"
        },
        {
            "cell_type": "markdown",
            "metadata": {},
            "source": "### Question  6\nFit a linear regression model to predict the <code>'price'</code> using the feature <code>'sqft_living'</code> then calculate the R^2. Take a screenshot of your code and the value of the R^2."
        },
        {
            "cell_type": "code",
            "execution_count": 52,
            "metadata": {
                "jupyter": {
                    "outputs_hidden": false
                }
            },
            "outputs": [
                {
                    "data": {
                        "text/plain": "0.49285321790379316"
                    },
                    "execution_count": 52,
                    "metadata": {},
                    "output_type": "execute_result"
                }
            ],
            "source": "sqft=df[['sqft_living']]\np=df['price']\nlm2 = LinearRegression()\nlm2.fit(sqft,p)\nlm2.score(sqft,p)"
        },
        {
            "cell_type": "markdown",
            "metadata": {},
            "source": "### Question 7\nFit a linear regression model to predict the <code>'price'</code> using the list of features:"
        },
        {
            "cell_type": "code",
            "execution_count": 59,
            "metadata": {},
            "outputs": [
                {
                    "data": {
                        "text/plain": "LinearRegression(copy_X=True, fit_intercept=True, n_jobs=None,\n         normalize=False)"
                    },
                    "execution_count": 59,
                    "metadata": {},
                    "output_type": "execute_result"
                }
            ],
            "source": "features =[\"floors\", \"waterfront\",\"lat\" ,\"bedrooms\" ,\"sqft_basement\" ,\"view\" ,\"bathrooms\",\"sqft_living15\",\"sqft_above\",\"grade\",\"sqft_living\"]\nlm2.fit(df[features],df['price'])"
        },
        {
            "cell_type": "markdown",
            "metadata": {},
            "source": "Then calculate the R^2. Take a screenshot of your code."
        },
        {
            "cell_type": "code",
            "execution_count": 60,
            "metadata": {
                "jupyter": {
                    "outputs_hidden": false
                }
            },
            "outputs": [
                {
                    "data": {
                        "text/plain": "0.657679183672129"
                    },
                    "execution_count": 60,
                    "metadata": {},
                    "output_type": "execute_result"
                }
            ],
            "source": "lm2.score(df[features],df['price'])"
        },
        {
            "cell_type": "markdown",
            "metadata": {},
            "source": "### This will help with Question 8\n\nCreate a list of tuples, the first element in the tuple contains the name of the estimator:\n\n<code>'scale'</code>\n\n<code>'polynomial'</code>\n\n<code>'model'</code>\n\nThe second element in the tuple  contains the model constructor \n\n<code>StandardScaler()</code>\n\n<code>PolynomialFeatures(include_bias=False)</code>\n\n<code>LinearRegression()</code>\n"
        },
        {
            "cell_type": "code",
            "execution_count": 61,
            "metadata": {},
            "outputs": [],
            "source": "Input=[('scale',StandardScaler()),('polynomial', PolynomialFeatures(include_bias=False)),('model',LinearRegression())]"
        },
        {
            "cell_type": "markdown",
            "metadata": {},
            "source": "### Question 8\nUse the list to create a pipeline object to predict the 'price', fit the object using the features in the list <code>features</code>, and calculate the R^2."
        },
        {
            "cell_type": "code",
            "execution_count": 66,
            "metadata": {
                "jupyter": {
                    "outputs_hidden": false
                }
            },
            "outputs": [
                {
                    "name": "stderr",
                    "output_type": "stream",
                    "text": "/opt/conda/envs/Python36/lib/python3.6/site-packages/sklearn/preprocessing/data.py:645: DataConversionWarning: Data with input dtype int64, float64 were all converted to float64 by StandardScaler.\n  return self.partial_fit(X, y)\n/opt/conda/envs/Python36/lib/python3.6/site-packages/sklearn/base.py:467: DataConversionWarning: Data with input dtype int64, float64 were all converted to float64 by StandardScaler.\n  return self.fit(X, y, **fit_params).transform(X)\n/opt/conda/envs/Python36/lib/python3.6/site-packages/sklearn/pipeline.py:511: DataConversionWarning: Data with input dtype int64, float64 were all converted to float64 by StandardScaler.\n  Xt = transform.transform(Xt)\n"
                },
                {
                    "data": {
                        "text/plain": "0.7513408553309376"
                    },
                    "execution_count": 66,
                    "metadata": {},
                    "output_type": "execute_result"
                }
            ],
            "source": "pipe=Pipeline(Input)\npipe.fit(df[features],df['price'])\npipe.score(df[features],df['price'])"
        },
        {
            "cell_type": "markdown",
            "metadata": {},
            "source": "# Module 5: Model Evaluation and Refinement"
        },
        {
            "cell_type": "markdown",
            "metadata": {},
            "source": "Import the necessary modules:"
        },
        {
            "cell_type": "code",
            "execution_count": 67,
            "metadata": {
                "jupyter": {
                    "outputs_hidden": false
                }
            },
            "outputs": [
                {
                    "name": "stdout",
                    "output_type": "stream",
                    "text": "done\n"
                }
            ],
            "source": "from sklearn.model_selection import cross_val_score\nfrom sklearn.model_selection import train_test_split\nprint(\"done\")"
        },
        {
            "cell_type": "markdown",
            "metadata": {},
            "source": "We will split the data into training and testing sets:"
        },
        {
            "cell_type": "code",
            "execution_count": 79,
            "metadata": {
                "jupyter": {
                    "outputs_hidden": false
                }
            },
            "outputs": [
                {
                    "name": "stdout",
                    "output_type": "stream",
                    "text": "number of test samples: 3242\nnumber of training samples: 18371\n"
                }
            ],
            "source": "features =[\"floors\", \"waterfront\",\"lat\" ,\"bedrooms\" ,\"sqft_basement\" ,\"view\" ,\"bathrooms\",\"sqft_living15\",\"sqft_above\",\"grade\",\"sqft_living\"]    \nX = df[features]\nY = df['price']\n\nx_train, x_test, y_train, y_test = train_test_split(X, Y, test_size=0.15, random_state=1)\n\n\nprint(\"number of test samples:\", x_test.shape[0])\nprint(\"number of training samples:\",x_train.shape[0])"
        },
        {
            "cell_type": "markdown",
            "metadata": {},
            "source": "### Question 9\nCreate and fit a Ridge regression object using the training data, set the regularization parameter to 0.1, and calculate the R^2 using the test data. \n"
        },
        {
            "cell_type": "code",
            "execution_count": 73,
            "metadata": {},
            "outputs": [],
            "source": "from sklearn.linear_model import Ridge"
        },
        {
            "cell_type": "code",
            "execution_count": 82,
            "metadata": {
                "jupyter": {
                    "outputs_hidden": false
                },
                "scrolled": true
            },
            "outputs": [
                {
                    "data": {
                        "text/plain": "0.6594378534950245"
                    },
                    "execution_count": 82,
                    "metadata": {},
                    "output_type": "execute_result"
                }
            ],
            "source": "ridgescore=Ridge(alpha=0.1)\nridgescore.fit(x_train,y_train)\nridgescore.score(x_train,y_train)"
        },
        {
            "cell_type": "code",
            "execution_count": 92,
            "metadata": {},
            "outputs": [
                {
                    "data": {
                        "text/html": "<div>\n<style scoped>\n    .dataframe tbody tr th:only-of-type {\n        vertical-align: middle;\n    }\n\n    .dataframe tbody tr th {\n        vertical-align: top;\n    }\n\n    .dataframe thead th {\n        text-align: right;\n    }\n</style>\n<table border=\"1\" class=\"dataframe\">\n  <thead>\n    <tr style=\"text-align: right;\">\n      <th></th>\n      <th>floors</th>\n      <th>waterfront</th>\n      <th>lat</th>\n      <th>bedrooms</th>\n      <th>sqft_basement</th>\n      <th>view</th>\n      <th>bathrooms</th>\n      <th>sqft_living15</th>\n      <th>sqft_above</th>\n      <th>grade</th>\n      <th>sqft_living</th>\n    </tr>\n  </thead>\n  <tbody>\n    <tr>\n      <th>17801</th>\n      <td>1.0</td>\n      <td>0</td>\n      <td>47.6576</td>\n      <td>2.0</td>\n      <td>0</td>\n      <td>0</td>\n      <td>1.00</td>\n      <td>1570</td>\n      <td>920</td>\n      <td>6</td>\n      <td>920</td>\n    </tr>\n    <tr>\n      <th>20764</th>\n      <td>1.0</td>\n      <td>0</td>\n      <td>47.3600</td>\n      <td>4.0</td>\n      <td>420</td>\n      <td>0</td>\n      <td>2.50</td>\n      <td>1390</td>\n      <td>1564</td>\n      <td>8</td>\n      <td>1984</td>\n    </tr>\n    <tr>\n      <th>2285</th>\n      <td>1.0</td>\n      <td>0</td>\n      <td>47.3682</td>\n      <td>3.0</td>\n      <td>0</td>\n      <td>0</td>\n      <td>1.50</td>\n      <td>1430</td>\n      <td>1310</td>\n      <td>7</td>\n      <td>1310</td>\n    </tr>\n    <tr>\n      <th>13350</th>\n      <td>2.0</td>\n      <td>0</td>\n      <td>47.5159</td>\n      <td>4.0</td>\n      <td>0</td>\n      <td>0</td>\n      <td>2.50</td>\n      <td>3030</td>\n      <td>3150</td>\n      <td>9</td>\n      <td>3150</td>\n    </tr>\n    <tr>\n      <th>19376</th>\n      <td>2.0</td>\n      <td>0</td>\n      <td>47.5123</td>\n      <td>4.0</td>\n      <td>0</td>\n      <td>0</td>\n      <td>2.50</td>\n      <td>2260</td>\n      <td>2350</td>\n      <td>8</td>\n      <td>2350</td>\n    </tr>\n    <tr>\n      <th>3091</th>\n      <td>2.0</td>\n      <td>0</td>\n      <td>47.6344</td>\n      <td>4.0</td>\n      <td>0</td>\n      <td>2</td>\n      <td>2.50</td>\n      <td>4080</td>\n      <td>4080</td>\n      <td>11</td>\n      <td>4080</td>\n    </tr>\n    <tr>\n      <th>13276</th>\n      <td>2.0</td>\n      <td>0</td>\n      <td>47.6397</td>\n      <td>4.0</td>\n      <td>0</td>\n      <td>1</td>\n      <td>2.75</td>\n      <td>2340</td>\n      <td>2730</td>\n      <td>9</td>\n      <td>2730</td>\n    </tr>\n    <tr>\n      <th>2144</th>\n      <td>1.0</td>\n      <td>0</td>\n      <td>47.4568</td>\n      <td>3.0</td>\n      <td>400</td>\n      <td>0</td>\n      <td>2.25</td>\n      <td>1610</td>\n      <td>1990</td>\n      <td>7</td>\n      <td>2390</td>\n    </tr>\n    <tr>\n      <th>20586</th>\n      <td>2.0</td>\n      <td>0</td>\n      <td>47.6372</td>\n      <td>2.0</td>\n      <td>560</td>\n      <td>0</td>\n      <td>2.50</td>\n      <td>2060</td>\n      <td>1120</td>\n      <td>8</td>\n      <td>1680</td>\n    </tr>\n    <tr>\n      <th>20571</th>\n      <td>2.0</td>\n      <td>0</td>\n      <td>47.6114</td>\n      <td>3.0</td>\n      <td>180</td>\n      <td>0</td>\n      <td>1.50</td>\n      <td>1320</td>\n      <td>1120</td>\n      <td>8</td>\n      <td>1300</td>\n    </tr>\n    <tr>\n      <th>14500</th>\n      <td>2.0</td>\n      <td>0</td>\n      <td>47.5436</td>\n      <td>2.0</td>\n      <td>0</td>\n      <td>0</td>\n      <td>2.25</td>\n      <td>1860</td>\n      <td>1860</td>\n      <td>8</td>\n      <td>1860</td>\n    </tr>\n    <tr>\n      <th>10850</th>\n      <td>2.0</td>\n      <td>0</td>\n      <td>47.6651</td>\n      <td>4.0</td>\n      <td>0</td>\n      <td>0</td>\n      <td>2.50</td>\n      <td>3220</td>\n      <td>3720</td>\n      <td>10</td>\n      <td>3720</td>\n    </tr>\n    <tr>\n      <th>11597</th>\n      <td>1.0</td>\n      <td>0</td>\n      <td>47.3819</td>\n      <td>3.0</td>\n      <td>0</td>\n      <td>0</td>\n      <td>1.75</td>\n      <td>1580</td>\n      <td>1580</td>\n      <td>7</td>\n      <td>1580</td>\n    </tr>\n    <tr>\n      <th>2445</th>\n      <td>1.0</td>\n      <td>0</td>\n      <td>47.7002</td>\n      <td>3.0</td>\n      <td>0</td>\n      <td>0</td>\n      <td>1.00</td>\n      <td>1060</td>\n      <td>940</td>\n      <td>7</td>\n      <td>940</td>\n    </tr>\n    <tr>\n      <th>2061</th>\n      <td>1.0</td>\n      <td>0</td>\n      <td>47.7287</td>\n      <td>4.0</td>\n      <td>0</td>\n      <td>0</td>\n      <td>2.00</td>\n      <td>1050</td>\n      <td>1350</td>\n      <td>7</td>\n      <td>1350</td>\n    </tr>\n    <tr>\n      <th>4694</th>\n      <td>1.0</td>\n      <td>0</td>\n      <td>47.7725</td>\n      <td>3.0</td>\n      <td>1250</td>\n      <td>0</td>\n      <td>1.50</td>\n      <td>1590</td>\n      <td>1355</td>\n      <td>8</td>\n      <td>2605</td>\n    </tr>\n    <tr>\n      <th>12620</th>\n      <td>2.0</td>\n      <td>0</td>\n      <td>47.5302</td>\n      <td>4.0</td>\n      <td>0</td>\n      <td>0</td>\n      <td>2.75</td>\n      <td>2670</td>\n      <td>2550</td>\n      <td>9</td>\n      <td>2550</td>\n    </tr>\n    <tr>\n      <th>8529</th>\n      <td>1.0</td>\n      <td>0</td>\n      <td>47.2666</td>\n      <td>3.0</td>\n      <td>0</td>\n      <td>0</td>\n      <td>1.75</td>\n      <td>1310</td>\n      <td>1210</td>\n      <td>6</td>\n      <td>1210</td>\n    </tr>\n    <tr>\n      <th>10784</th>\n      <td>2.0</td>\n      <td>0</td>\n      <td>47.5326</td>\n      <td>4.0</td>\n      <td>0</td>\n      <td>1</td>\n      <td>2.50</td>\n      <td>2650</td>\n      <td>3220</td>\n      <td>10</td>\n      <td>3220</td>\n    </tr>\n    <tr>\n      <th>20998</th>\n      <td>2.0</td>\n      <td>0</td>\n      <td>47.6853</td>\n      <td>4.0</td>\n      <td>0</td>\n      <td>0</td>\n      <td>2.50</td>\n      <td>1700</td>\n      <td>2580</td>\n      <td>8</td>\n      <td>2580</td>\n    </tr>\n    <tr>\n      <th>16361</th>\n      <td>1.0</td>\n      <td>0</td>\n      <td>47.3253</td>\n      <td>3.0</td>\n      <td>0</td>\n      <td>0</td>\n      <td>1.50</td>\n      <td>1460</td>\n      <td>1460</td>\n      <td>7</td>\n      <td>1460</td>\n    </tr>\n    <tr>\n      <th>16640</th>\n      <td>2.0</td>\n      <td>0</td>\n      <td>47.7368</td>\n      <td>3.0</td>\n      <td>0</td>\n      <td>0</td>\n      <td>2.00</td>\n      <td>1280</td>\n      <td>1840</td>\n      <td>7</td>\n      <td>1840</td>\n    </tr>\n    <tr>\n      <th>12538</th>\n      <td>1.0</td>\n      <td>0</td>\n      <td>47.4645</td>\n      <td>4.0</td>\n      <td>800</td>\n      <td>0</td>\n      <td>2.50</td>\n      <td>2260</td>\n      <td>1460</td>\n      <td>8</td>\n      <td>2260</td>\n    </tr>\n    <tr>\n      <th>18394</th>\n      <td>2.0</td>\n      <td>0</td>\n      <td>47.7471</td>\n      <td>3.0</td>\n      <td>0</td>\n      <td>0</td>\n      <td>2.25</td>\n      <td>1700</td>\n      <td>1440</td>\n      <td>7</td>\n      <td>1440</td>\n    </tr>\n    <tr>\n      <th>12598</th>\n      <td>1.0</td>\n      <td>0</td>\n      <td>47.3551</td>\n      <td>3.0</td>\n      <td>380</td>\n      <td>0</td>\n      <td>2.25</td>\n      <td>2070</td>\n      <td>1690</td>\n      <td>8</td>\n      <td>2070</td>\n    </tr>\n    <tr>\n      <th>9409</th>\n      <td>2.0</td>\n      <td>0</td>\n      <td>47.6735</td>\n      <td>4.0</td>\n      <td>590</td>\n      <td>0</td>\n      <td>3.50</td>\n      <td>1470</td>\n      <td>2060</td>\n      <td>9</td>\n      <td>2650</td>\n    </tr>\n    <tr>\n      <th>19345</th>\n      <td>2.0</td>\n      <td>0</td>\n      <td>47.5422</td>\n      <td>3.0</td>\n      <td>0</td>\n      <td>0</td>\n      <td>2.50</td>\n      <td>2970</td>\n      <td>2970</td>\n      <td>9</td>\n      <td>2970</td>\n    </tr>\n    <tr>\n      <th>13727</th>\n      <td>2.0</td>\n      <td>0</td>\n      <td>47.4291</td>\n      <td>3.0</td>\n      <td>0</td>\n      <td>0</td>\n      <td>2.00</td>\n      <td>2040</td>\n      <td>2770</td>\n      <td>9</td>\n      <td>2770</td>\n    </tr>\n    <tr>\n      <th>6139</th>\n      <td>1.0</td>\n      <td>0</td>\n      <td>47.7281</td>\n      <td>2.0</td>\n      <td>0</td>\n      <td>0</td>\n      <td>1.00</td>\n      <td>1600</td>\n      <td>1300</td>\n      <td>7</td>\n      <td>1300</td>\n    </tr>\n    <tr>\n      <th>14162</th>\n      <td>1.0</td>\n      <td>0</td>\n      <td>47.3736</td>\n      <td>3.0</td>\n      <td>0</td>\n      <td>0</td>\n      <td>2.00</td>\n      <td>2250</td>\n      <td>1640</td>\n      <td>7</td>\n      <td>1640</td>\n    </tr>\n    <tr>\n      <th>...</th>\n      <td>...</td>\n      <td>...</td>\n      <td>...</td>\n      <td>...</td>\n      <td>...</td>\n      <td>...</td>\n      <td>...</td>\n      <td>...</td>\n      <td>...</td>\n      <td>...</td>\n      <td>...</td>\n    </tr>\n    <tr>\n      <th>19261</th>\n      <td>1.0</td>\n      <td>0</td>\n      <td>47.4444</td>\n      <td>3.0</td>\n      <td>0</td>\n      <td>0</td>\n      <td>1.00</td>\n      <td>1530</td>\n      <td>1260</td>\n      <td>7</td>\n      <td>1260</td>\n    </tr>\n    <tr>\n      <th>4415</th>\n      <td>2.0</td>\n      <td>0</td>\n      <td>47.5670</td>\n      <td>4.0</td>\n      <td>0</td>\n      <td>0</td>\n      <td>3.25</td>\n      <td>3639</td>\n      <td>3526</td>\n      <td>10</td>\n      <td>3526</td>\n    </tr>\n    <tr>\n      <th>1031</th>\n      <td>2.0</td>\n      <td>0</td>\n      <td>47.5747</td>\n      <td>4.0</td>\n      <td>1380</td>\n      <td>3</td>\n      <td>4.25</td>\n      <td>3640</td>\n      <td>2870</td>\n      <td>10</td>\n      <td>4250</td>\n    </tr>\n    <tr>\n      <th>6285</th>\n      <td>1.5</td>\n      <td>0</td>\n      <td>47.6477</td>\n      <td>3.0</td>\n      <td>0</td>\n      <td>0</td>\n      <td>2.50</td>\n      <td>3440</td>\n      <td>3430</td>\n      <td>10</td>\n      <td>3430</td>\n    </tr>\n    <tr>\n      <th>1110</th>\n      <td>2.0</td>\n      <td>0</td>\n      <td>47.2626</td>\n      <td>3.0</td>\n      <td>0</td>\n      <td>0</td>\n      <td>2.25</td>\n      <td>2200</td>\n      <td>2200</td>\n      <td>8</td>\n      <td>2200</td>\n    </tr>\n    <tr>\n      <th>18272</th>\n      <td>1.0</td>\n      <td>0</td>\n      <td>47.6623</td>\n      <td>4.0</td>\n      <td>1050</td>\n      <td>2</td>\n      <td>2.50</td>\n      <td>3050</td>\n      <td>1570</td>\n      <td>7</td>\n      <td>2620</td>\n    </tr>\n    <tr>\n      <th>11742</th>\n      <td>2.0</td>\n      <td>0</td>\n      <td>47.6883</td>\n      <td>6.0</td>\n      <td>980</td>\n      <td>0</td>\n      <td>4.50</td>\n      <td>1860</td>\n      <td>1770</td>\n      <td>8</td>\n      <td>2750</td>\n    </tr>\n    <tr>\n      <th>17137</th>\n      <td>2.0</td>\n      <td>0</td>\n      <td>47.6348</td>\n      <td>3.0</td>\n      <td>0</td>\n      <td>3</td>\n      <td>3.25</td>\n      <td>3030</td>\n      <td>3230</td>\n      <td>10</td>\n      <td>3230</td>\n    </tr>\n    <tr>\n      <th>19433</th>\n      <td>2.0</td>\n      <td>0</td>\n      <td>47.6410</td>\n      <td>4.0</td>\n      <td>1060</td>\n      <td>0</td>\n      <td>3.25</td>\n      <td>2560</td>\n      <td>2710</td>\n      <td>9</td>\n      <td>3770</td>\n    </tr>\n    <tr>\n      <th>16946</th>\n      <td>1.0</td>\n      <td>0</td>\n      <td>47.6331</td>\n      <td>4.0</td>\n      <td>340</td>\n      <td>0</td>\n      <td>1.75</td>\n      <td>2840</td>\n      <td>1960</td>\n      <td>9</td>\n      <td>2300</td>\n    </tr>\n    <tr>\n      <th>4764</th>\n      <td>1.0</td>\n      <td>0</td>\n      <td>47.4633</td>\n      <td>3.0</td>\n      <td>0</td>\n      <td>0</td>\n      <td>1.75</td>\n      <td>1500</td>\n      <td>1480</td>\n      <td>7</td>\n      <td>1480</td>\n    </tr>\n    <tr>\n      <th>19946</th>\n      <td>2.0</td>\n      <td>0</td>\n      <td>47.6070</td>\n      <td>5.0</td>\n      <td>0</td>\n      <td>0</td>\n      <td>3.25</td>\n      <td>3230</td>\n      <td>3360</td>\n      <td>9</td>\n      <td>3360</td>\n    </tr>\n    <tr>\n      <th>8444</th>\n      <td>2.0</td>\n      <td>0</td>\n      <td>47.7439</td>\n      <td>3.0</td>\n      <td>0</td>\n      <td>0</td>\n      <td>2.50</td>\n      <td>2820</td>\n      <td>2470</td>\n      <td>9</td>\n      <td>2470</td>\n    </tr>\n    <tr>\n      <th>18900</th>\n      <td>2.0</td>\n      <td>0</td>\n      <td>47.7233</td>\n      <td>3.0</td>\n      <td>0</td>\n      <td>0</td>\n      <td>2.50</td>\n      <td>1710</td>\n      <td>1400</td>\n      <td>7</td>\n      <td>1400</td>\n    </tr>\n    <tr>\n      <th>2962</th>\n      <td>1.0</td>\n      <td>0</td>\n      <td>47.7693</td>\n      <td>3.0</td>\n      <td>0</td>\n      <td>0</td>\n      <td>1.00</td>\n      <td>1210</td>\n      <td>1210</td>\n      <td>7</td>\n      <td>1210</td>\n    </tr>\n    <tr>\n      <th>12645</th>\n      <td>1.5</td>\n      <td>0</td>\n      <td>47.6117</td>\n      <td>3.0</td>\n      <td>0</td>\n      <td>0</td>\n      <td>1.50</td>\n      <td>1280</td>\n      <td>1280</td>\n      <td>7</td>\n      <td>1280</td>\n    </tr>\n    <tr>\n      <th>3462</th>\n      <td>1.0</td>\n      <td>0</td>\n      <td>47.7713</td>\n      <td>4.0</td>\n      <td>700</td>\n      <td>0</td>\n      <td>2.75</td>\n      <td>2120</td>\n      <td>1500</td>\n      <td>8</td>\n      <td>2200</td>\n    </tr>\n    <tr>\n      <th>10989</th>\n      <td>1.5</td>\n      <td>0</td>\n      <td>47.4125</td>\n      <td>4.0</td>\n      <td>740</td>\n      <td>0</td>\n      <td>3.25</td>\n      <td>2180</td>\n      <td>3150</td>\n      <td>9</td>\n      <td>3890</td>\n    </tr>\n    <tr>\n      <th>7751</th>\n      <td>2.0</td>\n      <td>0</td>\n      <td>47.7241</td>\n      <td>4.0</td>\n      <td>0</td>\n      <td>0</td>\n      <td>2.25</td>\n      <td>3250</td>\n      <td>3440</td>\n      <td>9</td>\n      <td>3440</td>\n    </tr>\n    <tr>\n      <th>16332</th>\n      <td>2.0</td>\n      <td>0</td>\n      <td>47.3363</td>\n      <td>3.0</td>\n      <td>0</td>\n      <td>0</td>\n      <td>2.50</td>\n      <td>2030</td>\n      <td>1740</td>\n      <td>8</td>\n      <td>1740</td>\n    </tr>\n    <tr>\n      <th>20609</th>\n      <td>2.0</td>\n      <td>0</td>\n      <td>47.7740</td>\n      <td>4.0</td>\n      <td>640</td>\n      <td>0</td>\n      <td>2.50</td>\n      <td>3440</td>\n      <td>2850</td>\n      <td>9</td>\n      <td>3490</td>\n    </tr>\n    <tr>\n      <th>144</th>\n      <td>1.0</td>\n      <td>0</td>\n      <td>47.5495</td>\n      <td>4.0</td>\n      <td>650</td>\n      <td>0</td>\n      <td>2.25</td>\n      <td>2230</td>\n      <td>1380</td>\n      <td>8</td>\n      <td>2030</td>\n    </tr>\n    <tr>\n      <th>21440</th>\n      <td>3.0</td>\n      <td>0</td>\n      <td>47.6989</td>\n      <td>3.0</td>\n      <td>0</td>\n      <td>0</td>\n      <td>1.50</td>\n      <td>1270</td>\n      <td>1270</td>\n      <td>8</td>\n      <td>1270</td>\n    </tr>\n    <tr>\n      <th>19279</th>\n      <td>1.0</td>\n      <td>0</td>\n      <td>47.4493</td>\n      <td>2.0</td>\n      <td>0</td>\n      <td>0</td>\n      <td>1.00</td>\n      <td>1170</td>\n      <td>1150</td>\n      <td>6</td>\n      <td>1150</td>\n    </tr>\n    <tr>\n      <th>7813</th>\n      <td>2.0</td>\n      <td>0</td>\n      <td>47.6385</td>\n      <td>4.0</td>\n      <td>1010</td>\n      <td>2</td>\n      <td>3.25</td>\n      <td>2110</td>\n      <td>2090</td>\n      <td>9</td>\n      <td>3100</td>\n    </tr>\n    <tr>\n      <th>10955</th>\n      <td>2.0</td>\n      <td>0</td>\n      <td>47.5538</td>\n      <td>3.0</td>\n      <td>0</td>\n      <td>0</td>\n      <td>2.50</td>\n      <td>2190</td>\n      <td>1920</td>\n      <td>8</td>\n      <td>1920</td>\n    </tr>\n    <tr>\n      <th>17289</th>\n      <td>3.0</td>\n      <td>0</td>\n      <td>47.6875</td>\n      <td>4.0</td>\n      <td>0</td>\n      <td>0</td>\n      <td>4.50</td>\n      <td>1360</td>\n      <td>3420</td>\n      <td>9</td>\n      <td>3420</td>\n    </tr>\n    <tr>\n      <th>5192</th>\n      <td>1.0</td>\n      <td>0</td>\n      <td>47.5936</td>\n      <td>3.0</td>\n      <td>400</td>\n      <td>0</td>\n      <td>1.75</td>\n      <td>2460</td>\n      <td>1570</td>\n      <td>8</td>\n      <td>1970</td>\n    </tr>\n    <tr>\n      <th>12172</th>\n      <td>1.0</td>\n      <td>0</td>\n      <td>47.7753</td>\n      <td>3.0</td>\n      <td>690</td>\n      <td>0</td>\n      <td>2.25</td>\n      <td>1550</td>\n      <td>1290</td>\n      <td>7</td>\n      <td>1980</td>\n    </tr>\n    <tr>\n      <th>235</th>\n      <td>2.0</td>\n      <td>0</td>\n      <td>47.6489</td>\n      <td>5.0</td>\n      <td>0</td>\n      <td>0</td>\n      <td>4.00</td>\n      <td>3430</td>\n      <td>3760</td>\n      <td>10</td>\n      <td>3760</td>\n    </tr>\n  </tbody>\n</table>\n<p>18371 rows \u00d7 11 columns</p>\n</div>",
                        "text/plain": "       floors  waterfront      lat  bedrooms  sqft_basement  view  bathrooms  \\\n17801     1.0           0  47.6576       2.0              0     0       1.00   \n20764     1.0           0  47.3600       4.0            420     0       2.50   \n2285      1.0           0  47.3682       3.0              0     0       1.50   \n13350     2.0           0  47.5159       4.0              0     0       2.50   \n19376     2.0           0  47.5123       4.0              0     0       2.50   \n3091      2.0           0  47.6344       4.0              0     2       2.50   \n13276     2.0           0  47.6397       4.0              0     1       2.75   \n2144      1.0           0  47.4568       3.0            400     0       2.25   \n20586     2.0           0  47.6372       2.0            560     0       2.50   \n20571     2.0           0  47.6114       3.0            180     0       1.50   \n14500     2.0           0  47.5436       2.0              0     0       2.25   \n10850     2.0           0  47.6651       4.0              0     0       2.50   \n11597     1.0           0  47.3819       3.0              0     0       1.75   \n2445      1.0           0  47.7002       3.0              0     0       1.00   \n2061      1.0           0  47.7287       4.0              0     0       2.00   \n4694      1.0           0  47.7725       3.0           1250     0       1.50   \n12620     2.0           0  47.5302       4.0              0     0       2.75   \n8529      1.0           0  47.2666       3.0              0     0       1.75   \n10784     2.0           0  47.5326       4.0              0     1       2.50   \n20998     2.0           0  47.6853       4.0              0     0       2.50   \n16361     1.0           0  47.3253       3.0              0     0       1.50   \n16640     2.0           0  47.7368       3.0              0     0       2.00   \n12538     1.0           0  47.4645       4.0            800     0       2.50   \n18394     2.0           0  47.7471       3.0              0     0       2.25   \n12598     1.0           0  47.3551       3.0            380     0       2.25   \n9409      2.0           0  47.6735       4.0            590     0       3.50   \n19345     2.0           0  47.5422       3.0              0     0       2.50   \n13727     2.0           0  47.4291       3.0              0     0       2.00   \n6139      1.0           0  47.7281       2.0              0     0       1.00   \n14162     1.0           0  47.3736       3.0              0     0       2.00   \n...       ...         ...      ...       ...            ...   ...        ...   \n19261     1.0           0  47.4444       3.0              0     0       1.00   \n4415      2.0           0  47.5670       4.0              0     0       3.25   \n1031      2.0           0  47.5747       4.0           1380     3       4.25   \n6285      1.5           0  47.6477       3.0              0     0       2.50   \n1110      2.0           0  47.2626       3.0              0     0       2.25   \n18272     1.0           0  47.6623       4.0           1050     2       2.50   \n11742     2.0           0  47.6883       6.0            980     0       4.50   \n17137     2.0           0  47.6348       3.0              0     3       3.25   \n19433     2.0           0  47.6410       4.0           1060     0       3.25   \n16946     1.0           0  47.6331       4.0            340     0       1.75   \n4764      1.0           0  47.4633       3.0              0     0       1.75   \n19946     2.0           0  47.6070       5.0              0     0       3.25   \n8444      2.0           0  47.7439       3.0              0     0       2.50   \n18900     2.0           0  47.7233       3.0              0     0       2.50   \n2962      1.0           0  47.7693       3.0              0     0       1.00   \n12645     1.5           0  47.6117       3.0              0     0       1.50   \n3462      1.0           0  47.7713       4.0            700     0       2.75   \n10989     1.5           0  47.4125       4.0            740     0       3.25   \n7751      2.0           0  47.7241       4.0              0     0       2.25   \n16332     2.0           0  47.3363       3.0              0     0       2.50   \n20609     2.0           0  47.7740       4.0            640     0       2.50   \n144       1.0           0  47.5495       4.0            650     0       2.25   \n21440     3.0           0  47.6989       3.0              0     0       1.50   \n19279     1.0           0  47.4493       2.0              0     0       1.00   \n7813      2.0           0  47.6385       4.0           1010     2       3.25   \n10955     2.0           0  47.5538       3.0              0     0       2.50   \n17289     3.0           0  47.6875       4.0              0     0       4.50   \n5192      1.0           0  47.5936       3.0            400     0       1.75   \n12172     1.0           0  47.7753       3.0            690     0       2.25   \n235       2.0           0  47.6489       5.0              0     0       4.00   \n\n       sqft_living15  sqft_above  grade  sqft_living  \n17801           1570         920      6          920  \n20764           1390        1564      8         1984  \n2285            1430        1310      7         1310  \n13350           3030        3150      9         3150  \n19376           2260        2350      8         2350  \n3091            4080        4080     11         4080  \n13276           2340        2730      9         2730  \n2144            1610        1990      7         2390  \n20586           2060        1120      8         1680  \n20571           1320        1120      8         1300  \n14500           1860        1860      8         1860  \n10850           3220        3720     10         3720  \n11597           1580        1580      7         1580  \n2445            1060         940      7          940  \n2061            1050        1350      7         1350  \n4694            1590        1355      8         2605  \n12620           2670        2550      9         2550  \n8529            1310        1210      6         1210  \n10784           2650        3220     10         3220  \n20998           1700        2580      8         2580  \n16361           1460        1460      7         1460  \n16640           1280        1840      7         1840  \n12538           2260        1460      8         2260  \n18394           1700        1440      7         1440  \n12598           2070        1690      8         2070  \n9409            1470        2060      9         2650  \n19345           2970        2970      9         2970  \n13727           2040        2770      9         2770  \n6139            1600        1300      7         1300  \n14162           2250        1640      7         1640  \n...              ...         ...    ...          ...  \n19261           1530        1260      7         1260  \n4415            3639        3526     10         3526  \n1031            3640        2870     10         4250  \n6285            3440        3430     10         3430  \n1110            2200        2200      8         2200  \n18272           3050        1570      7         2620  \n11742           1860        1770      8         2750  \n17137           3030        3230     10         3230  \n19433           2560        2710      9         3770  \n16946           2840        1960      9         2300  \n4764            1500        1480      7         1480  \n19946           3230        3360      9         3360  \n8444            2820        2470      9         2470  \n18900           1710        1400      7         1400  \n2962            1210        1210      7         1210  \n12645           1280        1280      7         1280  \n3462            2120        1500      8         2200  \n10989           2180        3150      9         3890  \n7751            3250        3440      9         3440  \n16332           2030        1740      8         1740  \n20609           3440        2850      9         3490  \n144             2230        1380      8         2030  \n21440           1270        1270      8         1270  \n19279           1170        1150      6         1150  \n7813            2110        2090      9         3100  \n10955           2190        1920      8         1920  \n17289           1360        3420      9         3420  \n5192            2460        1570      8         1970  \n12172           1550        1290      7         1980  \n235             3430        3760     10         3760  \n\n[18371 rows x 11 columns]"
                    },
                    "execution_count": 92,
                    "metadata": {},
                    "output_type": "execute_result"
                }
            ],
            "source": "x_train"
        },
        {
            "cell_type": "markdown",
            "metadata": {},
            "source": "### Question 10\nPerform a second order polynomial transform on both the training data and testing data. Create and fit a Ridge regression object using the training data, set the regularisation parameter to 0.1, and calculate the R^2 utilising the test data provided. Take a screenshot of your code and the R^2."
        },
        {
            "cell_type": "code",
            "execution_count": 97,
            "metadata": {
                "jupyter": {
                    "outputs_hidden": false
                }
            },
            "outputs": [
                {
                    "data": {
                        "text/plain": "0.7539142476459282"
                    },
                    "execution_count": 97,
                    "metadata": {},
                    "output_type": "execute_result"
                }
            ],
            "source": "Pr= PolynomialFeatures (degree=2)\nx_train2=Pr.fit_transform(x_train)\nlm2.fit(x_train2,y_train)\nlm2.score(x_train2,y_train)"
        },
        {
            "cell_type": "markdown",
            "metadata": {},
            "source": "<p>Once you complete your notebook you will have to share it. Select the icon on the top right a marked in red in the image below, a dialogue box should open, and select the option all&nbsp;content excluding sensitive code cells.</p>\n        <p><img width=\"600\" src=\"https://s3-api.us-geo.objectstorage.softlayer.net/cf-courses-data/CognitiveClass/DA0101EN/coursera/project/save_notebook.png\" alt=\"share notebook\"  style=\"display: block; margin-left: auto; margin-right: auto;\"/></p>\n        <p></p>\n        <p>You can then share the notebook&nbsp; via a&nbsp; URL by scrolling down as shown in the following image:</p>\n        <p style=\"text-align: center;\"><img width=\"600\"  src=\"https://s3-api.us-geo.objectstorage.softlayer.net/cf-courses-data/CognitiveClass/DA0101EN/coursera/project/url_notebook.png\" alt=\"HTML\" style=\"display: block; margin-left: auto; margin-right: auto;\" /></p>\n        <p>&nbsp;</p>"
        },
        {
            "cell_type": "markdown",
            "metadata": {},
            "source": "<h2>About the Authors:</h2> \n\n<a href=\"https://www.linkedin.com/in/joseph-s-50398b136/\">Joseph Santarcangelo</a> has a PhD in Electrical Engineering, his research focused on using machine learning, signal processing, and computer vision to determine how videos impact human cognition. Joseph has been working for IBM since he completed his PhD."
        },
        {
            "cell_type": "markdown",
            "metadata": {},
            "source": "Other contributors: <a href=\"https://www.linkedin.com/in/michelleccarey/\">Michelle Carey</a>, <a href=\"www.linkedin.com/in/jiahui-mavis-zhou-a4537814a\">Mavis Zhou</a> "
        },
        {
            "cell_type": "code",
            "execution_count": null,
            "metadata": {},
            "outputs": [],
            "source": ""
        }
    ],
    "metadata": {
        "kernelspec": {
            "display_name": "Python 3.6",
            "language": "python",
            "name": "python3"
        },
        "language_info": {
            "codemirror_mode": {
                "name": "ipython",
                "version": 3
            },
            "file_extension": ".py",
            "mimetype": "text/x-python",
            "name": "python",
            "nbconvert_exporter": "python",
            "pygments_lexer": "ipython3",
            "version": "3.6.9"
        },
        "widgets": {
            "state": {},
            "version": "1.1.2"
        }
    },
    "nbformat": 4,
    "nbformat_minor": 4
}